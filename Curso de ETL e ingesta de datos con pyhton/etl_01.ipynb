{
 "cells": [
  {
   "cell_type": "code",
   "execution_count": 8,
   "id": "9b3ef952",
   "metadata": {},
   "outputs": [],
   "source": [
    "# Preparacion del entorno del trabajo para curso de etl\n",
    "import pandas as pd\n",
    "import numpy as np\n",
    "import matplotlib.pyplot as plt\n",
    "import seaborn as sns\n",
    "import sqlalchemy\n",
    "import sqlite3\n",
    "import openpyxl"
   ]
  },
  {
   "cell_type": "code",
   "execution_count": 20,
   "id": "55ae9d1b",
   "metadata": {},
   "outputs": [
    {
     "name": "stdout",
     "output_type": "stream",
     "text": [
      "Collecting psycopg2\n",
      "  Downloading psycopg2-2.9.10.tar.gz (385 kB)\n",
      "  Preparing metadata (setup.py) ... \u001b[?25ldone\n",
      "\u001b[?25hBuilding wheels for collected packages: psycopg2\n",
      "\u001b[33m  DEPRECATION: Building 'psycopg2' using the legacy setup.py bdist_wheel mechanism, which will be removed in a future version. pip 25.3 will enforce this behaviour change. A possible replacement is to use the standardized build interface by setting the `--use-pep517` option, (possibly combined with `--no-build-isolation`), or adding a `pyproject.toml` file to the source tree of 'psycopg2'. Discussion can be found at https://github.com/pypa/pip/issues/6334\u001b[0m\u001b[33m\n",
      "\u001b[0m  Building wheel for psycopg2 (setup.py) ... \u001b[?25ldone\n",
      "\u001b[?25h  Created wheel for psycopg2: filename=psycopg2-2.9.10-cp313-cp313-macosx_11_0_arm64.whl size=133333 sha256=52dc2af9ef48d952a0fee8c17abbd65c90ad594734c70720ee44af8b732b561d\n",
      "  Stored in directory: /Users/juanfelipearango/Library/Caches/pip/wheels/d1/02/6b/6fab072a7ac365814e6d6217fef5525fa5ac3c64204a418040\n",
      "Successfully built psycopg2\n",
      "Installing collected packages: psycopg2\n",
      "Successfully installed psycopg2-2.9.10\n"
     ]
    }
   ],
   "source": [
    "! pip install psycopg2"
   ]
  },
  {
   "cell_type": "code",
   "execution_count": 5,
   "id": "923bd7cd",
   "metadata": {},
   "outputs": [],
   "source": [
    "data =pd.read_excel(\"/Users/juanfelipearango/Library/CloudStorage/OneDrive-Personal/Documents/Visual/Platzi/data.xlsx\")"
   ]
  },
  {
   "cell_type": "code",
   "execution_count": 6,
   "id": "5b342428",
   "metadata": {},
   "outputs": [
    {
     "data": {
      "application/vnd.microsoft.datawrangler.viewer.v0+json": {
       "columns": [
        {
         "name": "index",
         "rawType": "int64",
         "type": "integer"
        },
        {
         "name": "Age",
         "rawType": "float64",
         "type": "float"
        },
        {
         "name": "Sex",
         "rawType": "object",
         "type": "string"
        },
        {
         "name": "ID",
         "rawType": "int64",
         "type": "integer"
        },
        {
         "name": "Race",
         "rawType": "object",
         "type": "string"
        },
        {
         "name": "Country",
         "rawType": "object",
         "type": "string"
        },
        {
         "name": "Education",
         "rawType": "object",
         "type": "string"
        },
        {
         "name": "Education-Num",
         "rawType": "float64",
         "type": "float"
        },
        {
         "name": "Marital Status",
         "rawType": "object",
         "type": "string"
        },
        {
         "name": "Relationship",
         "rawType": "object",
         "type": "string"
        }
       ],
       "ref": "377d638f-ef4c-452b-9495-d9e27da26fbf",
       "rows": [
        [
         "0",
         "39.0",
         " Male",
         "49084",
         " White",
         " United-States",
         " Bachelors",
         "13.0",
         " Never-married",
         " Not-in-family"
        ],
        [
         "1",
         "50.0",
         " Male",
         "68553",
         " White",
         " United-States",
         " Bachelors",
         "13.0",
         " Married-civ-spouse",
         " Husband"
        ],
        [
         "2",
         "38.0",
         " Male",
         "143654",
         " White",
         " United-States",
         " HS-grad",
         "9.0",
         " Divorced",
         " Not-in-family"
        ],
        [
         "3",
         "53.0",
         " Male",
         "41510",
         " Black",
         " United-States",
         " 11th",
         "7.0",
         " Married-civ-spouse",
         " Husband"
        ],
        [
         "4",
         "28.0",
         " Female",
         "195025",
         " Black",
         " Cuba",
         " Bachelors",
         "13.0",
         " Married-civ-spouse",
         " Wife"
        ]
       ],
       "shape": {
        "columns": 9,
        "rows": 5
       }
      },
      "text/html": [
       "<div>\n",
       "<style scoped>\n",
       "    .dataframe tbody tr th:only-of-type {\n",
       "        vertical-align: middle;\n",
       "    }\n",
       "\n",
       "    .dataframe tbody tr th {\n",
       "        vertical-align: top;\n",
       "    }\n",
       "\n",
       "    .dataframe thead th {\n",
       "        text-align: right;\n",
       "    }\n",
       "</style>\n",
       "<table border=\"1\" class=\"dataframe\">\n",
       "  <thead>\n",
       "    <tr style=\"text-align: right;\">\n",
       "      <th></th>\n",
       "      <th>Age</th>\n",
       "      <th>Sex</th>\n",
       "      <th>ID</th>\n",
       "      <th>Race</th>\n",
       "      <th>Country</th>\n",
       "      <th>Education</th>\n",
       "      <th>Education-Num</th>\n",
       "      <th>Marital Status</th>\n",
       "      <th>Relationship</th>\n",
       "    </tr>\n",
       "  </thead>\n",
       "  <tbody>\n",
       "    <tr>\n",
       "      <th>0</th>\n",
       "      <td>39.0</td>\n",
       "      <td>Male</td>\n",
       "      <td>49084</td>\n",
       "      <td>White</td>\n",
       "      <td>United-States</td>\n",
       "      <td>Bachelors</td>\n",
       "      <td>13.0</td>\n",
       "      <td>Never-married</td>\n",
       "      <td>Not-in-family</td>\n",
       "    </tr>\n",
       "    <tr>\n",
       "      <th>1</th>\n",
       "      <td>50.0</td>\n",
       "      <td>Male</td>\n",
       "      <td>68553</td>\n",
       "      <td>White</td>\n",
       "      <td>United-States</td>\n",
       "      <td>Bachelors</td>\n",
       "      <td>13.0</td>\n",
       "      <td>Married-civ-spouse</td>\n",
       "      <td>Husband</td>\n",
       "    </tr>\n",
       "    <tr>\n",
       "      <th>2</th>\n",
       "      <td>38.0</td>\n",
       "      <td>Male</td>\n",
       "      <td>143654</td>\n",
       "      <td>White</td>\n",
       "      <td>United-States</td>\n",
       "      <td>HS-grad</td>\n",
       "      <td>9.0</td>\n",
       "      <td>Divorced</td>\n",
       "      <td>Not-in-family</td>\n",
       "    </tr>\n",
       "    <tr>\n",
       "      <th>3</th>\n",
       "      <td>53.0</td>\n",
       "      <td>Male</td>\n",
       "      <td>41510</td>\n",
       "      <td>Black</td>\n",
       "      <td>United-States</td>\n",
       "      <td>11th</td>\n",
       "      <td>7.0</td>\n",
       "      <td>Married-civ-spouse</td>\n",
       "      <td>Husband</td>\n",
       "    </tr>\n",
       "    <tr>\n",
       "      <th>4</th>\n",
       "      <td>28.0</td>\n",
       "      <td>Female</td>\n",
       "      <td>195025</td>\n",
       "      <td>Black</td>\n",
       "      <td>Cuba</td>\n",
       "      <td>Bachelors</td>\n",
       "      <td>13.0</td>\n",
       "      <td>Married-civ-spouse</td>\n",
       "      <td>Wife</td>\n",
       "    </tr>\n",
       "  </tbody>\n",
       "</table>\n",
       "</div>"
      ],
      "text/plain": [
       "    Age      Sex      ID    Race         Country   Education  Education-Num  \\\n",
       "0  39.0     Male   49084   White   United-States   Bachelors           13.0   \n",
       "1  50.0     Male   68553   White   United-States   Bachelors           13.0   \n",
       "2  38.0     Male  143654   White   United-States     HS-grad            9.0   \n",
       "3  53.0     Male   41510   Black   United-States        11th            7.0   \n",
       "4  28.0   Female  195025   Black            Cuba   Bachelors           13.0   \n",
       "\n",
       "        Marital Status    Relationship  \n",
       "0        Never-married   Not-in-family  \n",
       "1   Married-civ-spouse         Husband  \n",
       "2             Divorced   Not-in-family  \n",
       "3   Married-civ-spouse         Husband  \n",
       "4   Married-civ-spouse            Wife  "
      ]
     },
     "execution_count": 6,
     "metadata": {},
     "output_type": "execute_result"
    }
   ],
   "source": [
    "data.head()"
   ]
  },
  {
   "cell_type": "code",
   "execution_count": 7,
   "id": "257a81af",
   "metadata": {},
   "outputs": [
    {
     "name": "stdout",
     "output_type": "stream",
     "text": [
      "Primeras filas del dataframe:\n",
      "    Age      Sex      ID    Race         Country   Education  Education-Num  \\\n",
      "0  39.0     Male   49084   White   United-States   Bachelors           13.0   \n",
      "1  50.0     Male   68553   White   United-States   Bachelors           13.0   \n",
      "2  38.0     Male  143654   White   United-States     HS-grad            9.0   \n",
      "3  53.0     Male   41510   Black   United-States        11th            7.0   \n",
      "4  28.0   Female  195025   Black            Cuba   Bachelors           13.0   \n",
      "\n",
      "        Marital Status    Relationship  \n",
      "0        Never-married   Not-in-family  \n",
      "1   Married-civ-spouse         Husband  \n",
      "2             Divorced   Not-in-family  \n",
      "3   Married-civ-spouse         Husband  \n",
      "4   Married-civ-spouse            Wife  \n",
      "\n",
      "Información general sobre el dataframe:\n",
      "<class 'pandas.core.frame.DataFrame'>\n",
      "RangeIndex: 48843 entries, 0 to 48842\n",
      "Data columns (total 9 columns):\n",
      " #   Column          Non-Null Count  Dtype  \n",
      "---  ------          --------------  -----  \n",
      " 0   Age             48842 non-null  float64\n",
      " 1   Sex             48842 non-null  object \n",
      " 2   ID              48843 non-null  int64  \n",
      " 3   Race            48842 non-null  object \n",
      " 4   Country         48842 non-null  object \n",
      " 5   Education       48842 non-null  object \n",
      " 6   Education-Num   48842 non-null  float64\n",
      " 7   Marital Status  48842 non-null  object \n",
      " 8   Relationship    48842 non-null  object \n",
      "dtypes: float64(2), int64(1), object(6)\n",
      "memory usage: 3.4+ MB\n",
      "None\n",
      "\n",
      "Estadísticas descriptivas:\n",
      "                Age            ID  Education-Num\n",
      "count  48842.000000  4.884300e+04   48842.000000\n",
      "mean      38.643585  6.775293e+08      10.078089\n",
      "std       13.710510  6.496383e+08       2.570973\n",
      "min       17.000000  3.080000e+03       1.000000\n",
      "25%       28.000000  1.679978e+08       9.000000\n",
      "50%       37.000000  4.714461e+08      10.000000\n",
      "75%       48.000000  1.002107e+09      12.000000\n",
      "max       90.000000  3.229272e+09      16.000000\n",
      "\n",
      "Valores nulos por columna:\n",
      "Age               1\n",
      "Sex               1\n",
      "ID                0\n",
      "Race              1\n",
      "Country           1\n",
      "Education         1\n",
      "Education-Num     1\n",
      "Marital Status    1\n",
      "Relationship      1\n",
      "dtype: int64\n"
     ]
    }
   ],
   "source": [
    "# Ver las primeras filas del dataframe\n",
    "print(\"Primeras filas del dataframe:\")\n",
    "print(data.head())\n",
    "\n",
    "# Información general del dataframe\n",
    "print(\"\\nInformación general sobre el dataframe:\")\n",
    "print(data.info())\n",
    "\n",
    "# Estadísticas descriptivas\n",
    "print(\"\\nEstadísticas descriptivas:\")\n",
    "print(data.describe())\n",
    "\n",
    "# Comprobar valores nulos\n",
    "print(\"\\nValores nulos por columna:\")\n",
    "print(data.isnull().sum())"
   ]
  },
  {
   "cell_type": "code",
   "execution_count": 9,
   "id": "2b7d670b",
   "metadata": {},
   "outputs": [
    {
     "name": "stdout",
     "output_type": "stream",
     "text": [
      "\n",
      "Distribución de las variables numéricas:\n"
     ]
    },
    {
     "data": {
      "image/png": "[encoded data removed]",
      "text/plain": [
       "<Figure size 1400x1000 with 4 Axes>"
      ]
     },
     "metadata": {},
     "output_type": "display_data"
    },
    {
     "name": "stdout",
     "output_type": "stream",
     "text": [
      "\n",
      "Matriz de correlación:\n"
     ]
    },
    {
     "data": {
      "image/png": "[encoded data removed]",
      "text/plain": [
       "<Figure size 640x480 with 2 Axes>"
      ]
     },
     "metadata": {},
     "output_type": "display_data"
    },
    {
     "name": "stdout",
     "output_type": "stream",
     "text": [
      "\n",
      "Valores únicos por columna:\n",
      "Age                  74\n",
      "Sex                   2\n",
      "ID                48843\n",
      "Race                  5\n",
      "Country              42\n",
      "Education            16\n",
      "Education-Num        16\n",
      "Marital Status        7\n",
      "Relationship          6\n",
      "dtype: int64\n"
     ]
    }
   ],
   "source": [
    "# Ver distribución de las variables numéricas\n",
    "print(\"\\nDistribución de las variables numéricas:\")\n",
    "data.hist(bins=20, figsize=(14,10))\n",
    "plt.suptitle(\"Distribución de Variables Numéricas\")\n",
    "plt.show()\n",
    "\n",
    "# Correlación entre variables numéricas usando numeric_only\n",
    "print(\"\\nMatriz de correlación:\")\n",
    "corr = data.corr(numeric_only=True)  # O usar select_dtypes para filtrar columnas numéricas\n",
    "sns.heatmap(corr, annot=True, cmap='coolwarm', fmt='.2f', cbar=True)\n",
    "plt.title(\"Mapa de Calor de Correlación\")\n",
    "plt.show()\n",
    "\n",
    "# Ver la cantidad de valores únicos por columna\n",
    "print(\"\\nValores únicos por columna:\")\n",
    "print(data.nunique())\n",
    "\n",
    "# Graficar la distribución de una variable específica\n",
    "# (por ejemplo, si hay una columna llamada 'edad', para ver la distribución de la edad)\n",
    "if 'edad' in data.columns:\n",
    "    plt.figure(figsize=(10, 6))\n",
    "    sns.histplot(data['edad'], kde=True, color='blue')\n",
    "    plt.title('Distribución de la Edad')\n",
    "    plt.xlabel('Edad')\n",
    "    plt.ylabel('Frecuencia')\n",
    "    plt.show()\n",
    "\n",
    "# Verificación de outliers (valores atípicos) usando boxplot\n",
    "# Si existe una columna llamada 'ingresos', para ver los outliers en ella\n",
    "if 'ingresos' in data.columns:\n",
    "    plt.figure(figsize=(10, 6))\n",
    "    sns.boxplot(x=data['ingresos'])\n",
    "    plt.title('Outliers en Ingresos')\n",
    "    plt.show()"
   ]
  },
  {
   "cell_type": "markdown",
   "id": "2bf3ee5f",
   "metadata": {},
   "source": [
    "## Ingesta de datos con APIS"
   ]
  },
  {
   "cell_type": "code",
   "execution_count": 13,
   "id": "5a1adcf9",
   "metadata": {},
   "outputs": [
    {
     "name": "stdout",
     "output_type": "stream",
     "text": [
      "<Response [200]>\n"
     ]
    }
   ],
   "source": [
    "import requests\n",
    "import json\n",
    "url = 'https://raw.githubusercontent.com/bttmly/nba/master/data/teams.json'\n",
    "respuesta = requests.get(url)\n",
    "print(respuesta)"
   ]
  },
  {
   "cell_type": "code",
   "execution_count": 11,
   "id": "1f743f68",
   "metadata": {},
   "outputs": [
    {
     "data": {
      "text/plain": [
       "'[\\n  {\\n    \"teamId\": 1610612737,\\n    \"abbreviation\": \"ATL\",\\n    \"teamName\": \"Atlanta Hawks\",\\n    \"simpleName\": \"Hawks\",\\n    \"location\": \"Atlanta\"\\n  },\\n  {\\n    \"teamId\": 1610612738,\\n    \"abbreviation\": \"BOS\",\\n    \"teamName\": \"Boston Celtics\",\\n    \"simpleName\": \"Celtics\",\\n    \"location\": \"Boston\"\\n  },\\n  {\\n    \"teamId\": 1610612751,\\n    \"abbreviation\": \"BKN\",\\n    \"teamName\": \"Brooklyn Nets\",\\n    \"simpleName\": \"Nets\",\\n    \"location\": \"Brooklyn\"\\n  },\\n  {\\n    \"teamId\": 1610612766,\\n    \"abbreviation\": \"CHA\",\\n    \"teamName\": \"Charlotte Hornets\",\\n    \"simpleName\": \"Hornets\",\\n    \"location\": \"Charlotte\"\\n  },\\n  {\\n    \"teamId\": 1610612741,\\n    \"abbreviation\": \"CHI\",\\n    \"teamName\": \"Chicago Bulls\",\\n    \"simpleName\": \"Bulls\",\\n    \"location\": \"Chicago\"\\n  },\\n  {\\n    \"teamId\": 1610612739,\\n    \"abbreviation\": \"CLE\",\\n    \"teamName\": \"Cleveland Cavaliers\",\\n    \"simpleName\": \"Cavaliers\",\\n    \"location\": \"Cleveland\"\\n  },\\n  {\\n    \"teamId\": 1610612742,\\n    \"abbreviation\": \"DAL\",\\n    \"teamName\": \"Dallas Mavericks\",\\n    \"simpleName\": \"Mavericks\",\\n    \"location\": \"Dallas\"\\n  },\\n  {\\n    \"teamId\": 1610612743,\\n    \"abbreviation\": \"DEN\",\\n    \"teamName\": \"Denver Nuggets\",\\n    \"simpleName\": \"Nuggets\",\\n    \"location\": \"Denver\"\\n  },\\n  {\\n    \"teamId\": 1610612765,\\n    \"abbreviation\": \"DET\",\\n    \"teamName\": \"Detroit Pistons\",\\n    \"simpleName\": \"Pistons\",\\n    \"location\": \"Detroit\"\\n  },\\n  {\\n    \"teamId\": 1610612744,\\n    \"abbreviation\": \"GSW\",\\n    \"teamName\": \"Golden State Warriors\",\\n    \"simpleName\": \"Warriors\",\\n    \"location\": \"Golden State\"\\n  },\\n  {\\n    \"teamId\": 1610612745,\\n    \"abbreviation\": \"HOU\",\\n    \"teamName\": \"Houston Rockets\",\\n    \"simpleName\": \"Rockets\",\\n    \"location\": \"Houston\"\\n  },\\n  {\\n    \"teamId\": 1610612754,\\n    \"abbreviation\": \"IND\",\\n    \"teamName\": \"Indiana Pacers\",\\n    \"simpleName\": \"Pacers\",\\n    \"location\": \"Indiana\"\\n  },\\n  {\\n    \"teamId\": 1610612746,\\n    \"abbreviation\": \"LAC\",\\n    \"teamName\": \"Los Angeles Clippers\",\\n    \"simpleName\": \"Clippers\",\\n    \"location\": \"Los Angeles\"\\n  },\\n  {\\n    \"teamId\": 1610612747,\\n    \"abbreviation\": \"LAL\",\\n    \"teamName\": \"Los Angeles Lakers\",\\n    \"simpleName\": \"Lakers\",\\n    \"location\": \"Los Angeles\"\\n  },\\n  {\\n    \"teamId\": 1610612763,\\n    \"abbreviation\": \"MEM\",\\n    \"teamName\": \"Memphis Grizzlies\",\\n    \"simpleName\": \"Grizzlies\",\\n    \"location\": \"Memphis\"\\n  },\\n  {\\n    \"teamId\": 1610612748,\\n    \"abbreviation\": \"MIA\",\\n    \"teamName\": \"Miami Heat\",\\n    \"simpleName\": \"Heat\",\\n    \"location\": \"Miami\"\\n  },\\n  {\\n    \"teamId\": 1610612749,\\n    \"abbreviation\": \"MIL\",\\n    \"teamName\": \"Milwaukee Bucks\",\\n    \"simpleName\": \"Bucks\",\\n    \"location\": \"Milwaukee\"\\n  },\\n  {\\n    \"teamId\": 1610612750,\\n    \"abbreviation\": \"MIN\",\\n    \"teamName\": \"Minnesota Timberwolves\",\\n    \"simpleName\": \"Timberwolves\",\\n    \"location\": \"Minnesota\"\\n  },\\n  {\\n    \"teamId\": 1610612740,\\n    \"abbreviation\": \"NOP\",\\n    \"teamName\": \"New Orleans Pelicans\",\\n    \"simpleName\": \"Pelicans\",\\n    \"location\": \"New Orleans\"\\n  },\\n  {\\n    \"teamId\": 1610612752,\\n    \"abbreviation\": \"NYK\",\\n    \"teamName\": \"New York Knicks\",\\n    \"simpleName\": \"Knicks\",\\n    \"location\": \"New York\"\\n  },\\n  {\\n    \"teamId\": 1610612760,\\n    \"abbreviation\": \"OKC\",\\n    \"teamName\": \"Oklahoma City Thunder\",\\n    \"simpleName\": \"Thunder\",\\n    \"location\": \"Oklahoma City\"\\n  },\\n  {\\n    \"teamId\": 1610612753,\\n    \"abbreviation\": \"ORL\",\\n    \"teamName\": \"Orlando Magic\",\\n    \"simpleName\": \"Magic\",\\n    \"location\": \"Orlando\"\\n  },\\n  {\\n    \"teamId\": 1610612755,\\n    \"abbreviation\": \"PHI\",\\n    \"teamName\": \"Philadelphia 76ers\",\\n    \"simpleName\": \"76ers\",\\n    \"location\": \"Philadelphia\"\\n  },\\n  {\\n    \"teamId\": 1610612756,\\n    \"abbreviation\": \"PHX\",\\n    \"teamName\": \"Phoenix Suns\",\\n    \"simpleName\": \"Suns\",\\n    \"location\": \"Phoenix\"\\n  },\\n  {\\n    \"teamId\": 1610612757,\\n    \"abbreviation\": \"POR\",\\n    \"teamName\": \"Portland Trail Blazers\",\\n    \"simpleName\": \"Trail Blazers\",\\n    \"location\": \"Portland\"\\n  },\\n  {\\n    \"teamId\": 1610612758,\\n    \"abbreviation\": \"SAC\",\\n    \"teamName\": \"Sacramento Kings\",\\n    \"simpleName\": \"Kings\",\\n    \"location\": \"Sacramento\"\\n  },\\n  {\\n    \"teamId\": 1610612759,\\n    \"abbreviation\": \"SAS\",\\n    \"teamName\": \"San Antonio Spurs\",\\n    \"simpleName\": \"Spurs\",\\n    \"location\": \"San Antonio\"\\n  },\\n  {\\n    \"teamId\": 1610612761,\\n    \"abbreviation\": \"TOR\",\\n    \"teamName\": \"Toronto Raptors\",\\n    \"simpleName\": \"Raptors\",\\n    \"location\": \"Toronto\"\\n  },\\n  {\\n    \"teamId\": 1610612762,\\n    \"abbreviation\": \"UTA\",\\n    \"teamName\": \"Utah Jazz\",\\n    \"simpleName\": \"Jazz\",\\n    \"location\": \"Utah\"\\n  },\\n  {\\n    \"teamId\": 1610612764,\\n    \"abbreviation\": \"WAS\",\\n    \"teamName\": \"Washington Wizards\",\\n    \"simpleName\": \"Wizards\",\\n    \"location\": \"Washington\"\\n  }\\n]'"
      ]
     },
     "execution_count": 11,
     "metadata": {},
     "output_type": "execute_result"
    }
   ],
   "source": [
    "respuesta.text"
   ]
  },
  {
   "cell_type": "code",
   "execution_count": 14,
   "id": "657c3f26",
   "metadata": {},
   "outputs": [],
   "source": [
    "texto = respuesta.text\n",
    "json_data = json.loads(texto)"
   ]
  },
  {
   "cell_type": "code",
   "execution_count": null,
   "id": "0642e5a8",
   "metadata": {},
   "outputs": [
    {
     "data": {
      "application/vnd.microsoft.datawrangler.viewer.v0+json": {
       "columns": [
        {
         "name": "index",
         "rawType": "int64",
         "type": "integer"
        },
        {
         "name": "teamId",
         "rawType": "int64",
         "type": "integer"
        },
        {
         "name": "abbreviation",
         "rawType": "object",
         "type": "string"
        },
        {
         "name": "teamName",
         "rawType": "object",
         "type": "string"
        },
        {
         "name": "simpleName",
         "rawType": "object",
         "type": "string"
        },
        {
         "name": "location",
         "rawType": "object",
         "type": "string"
        }
       ],
       "ref": "bdc7e838-3825-4798-90e8-92b84111d170",
       "rows": [
        [
         "0",
         "1610612737",
         "ATL",
         "Atlanta Hawks",
         "Hawks",
         "Atlanta"
        ],
        [
         "1",
         "1610612738",
         "BOS",
         "Boston Celtics",
         "Celtics",
         "Boston"
        ],
        [
         "2",
         "1610612751",
         "BKN",
         "Brooklyn Nets",
         "Nets",
         "Brooklyn"
        ],
        [
         "3",
         "1610612766",
         "CHA",
         "Charlotte Hornets",
         "Hornets",
         "Charlotte"
        ],
        [
         "4",
         "1610612741",
         "CHI",
         "Chicago Bulls",
         "Bulls",
         "Chicago"
        ]
       ],
       "shape": {
        "columns": 5,
        "rows": 5
       }
      },
      "text/html": [
       "<div>\n",
       "<style scoped>\n",
       "    .dataframe tbody tr th:only-of-type {\n",
       "        vertical-align: middle;\n",
       "    }\n",
       "\n",
       "    .dataframe tbody tr th {\n",
       "        vertical-align: top;\n",
       "    }\n",
       "\n",
       "    .dataframe thead th {\n",
       "        text-align: right;\n",
       "    }\n",
       "</style>\n",
       "<table border=\"1\" class=\"dataframe\">\n",
       "  <thead>\n",
       "    <tr style=\"text-align: right;\">\n",
       "      <th></th>\n",
       "      <th>teamId</th>\n",
       "      <th>abbreviation</th>\n",
       "      <th>teamName</th>\n",
       "      <th>simpleName</th>\n",
       "      <th>location</th>\n",
       "    </tr>\n",
       "  </thead>\n",
       "  <tbody>\n",
       "    <tr>\n",
       "      <th>0</th>\n",
       "      <td>1610612737</td>\n",
       "      <td>ATL</td>\n",
       "      <td>Atlanta Hawks</td>\n",
       "      <td>Hawks</td>\n",
       "      <td>Atlanta</td>\n",
       "    </tr>\n",
       "    <tr>\n",
       "      <th>1</th>\n",
       "      <td>1610612738</td>\n",
       "      <td>BOS</td>\n",
       "      <td>Boston Celtics</td>\n",
       "      <td>Celtics</td>\n",
       "      <td>Boston</td>\n",
       "    </tr>\n",
       "    <tr>\n",
       "      <th>2</th>\n",
       "      <td>1610612751</td>\n",
       "      <td>BKN</td>\n",
       "      <td>Brooklyn Nets</td>\n",
       "      <td>Nets</td>\n",
       "      <td>Brooklyn</td>\n",
       "    </tr>\n",
       "    <tr>\n",
       "      <th>3</th>\n",
       "      <td>1610612766</td>\n",
       "      <td>CHA</td>\n",
       "      <td>Charlotte Hornets</td>\n",
       "      <td>Hornets</td>\n",
       "      <td>Charlotte</td>\n",
       "    </tr>\n",
       "    <tr>\n",
       "      <th>4</th>\n",
       "      <td>1610612741</td>\n",
       "      <td>CHI</td>\n",
       "      <td>Chicago Bulls</td>\n",
       "      <td>Bulls</td>\n",
       "      <td>Chicago</td>\n",
       "    </tr>\n",
       "  </tbody>\n",
       "</table>\n",
       "</div>"
      ],
      "text/plain": [
       "       teamId abbreviation           teamName simpleName   location\n",
       "0  1610612737          ATL      Atlanta Hawks      Hawks    Atlanta\n",
       "1  1610612738          BOS     Boston Celtics    Celtics     Boston\n",
       "2  1610612751          BKN      Brooklyn Nets       Nets   Brooklyn\n",
       "3  1610612766          CHA  Charlotte Hornets    Hornets  Charlotte\n",
       "4  1610612741          CHI      Chicago Bulls      Bulls    Chicago"
      ]
     },
     "execution_count": 15,
     "metadata": {},
     "output_type": "execute_result"
    }
   ],
   "source": [
    "#Convertimos a un Json a un dataframe para faciltiar la manipulacion del data ser\n",
    "df = pd.DataFrame.from_dict(json_data)\n",
    "df.head()"
   ]
  },
  {
   "cell_type": "markdown",
   "id": "1a3ba45a",
   "metadata": {},
   "source": [
    "revisar la api y documentacion y parametros disponbles, manejar excepciones un adecuado manejo de errores sera mas robusto"
   ]
  },
  {
   "cell_type": "code",
   "execution_count": 16,
   "id": "e082827e",
   "metadata": {},
   "outputs": [
    {
     "name": "stdout",
     "output_type": "stream",
     "text": [
      "Título: sunt aut facere repellat provident occaecati excepturi optio reprehenderit\n",
      "Contenido: quia et suscipit\n",
      "suscipit recusandae consequuntur expedita et cum\n",
      "reprehenderit molestiae ut ut quas totam\n",
      "nostrum rerum est autem sunt rem eveniet architecto\n"
     ]
    }
   ],
   "source": [
    "import requests\n",
    "\n",
    "# URL de ejemplo que devuelve datos en formato JSON\n",
    "url = \"https://jsonplaceholder.typicode.com/posts/1\"\n",
    "\n",
    "try:\n",
    "    # Hacemos la solicitud GET\n",
    "    response = requests.get(url)\n",
    "    \n",
    "    # Comprobamos si la solicitud fue exitosa\n",
    "    if response.status_code == 200:\n",
    "        # Convertimos la respuesta a JSON\n",
    "        data = response.json()\n",
    "        \n",
    "        # Procesamos los datos JSON\n",
    "        # En este caso, mostramos el título y el contenido del post\n",
    "        print(\"Título:\", data.get(\"title\"))\n",
    "        print(\"Contenido:\", data.get(\"body\"))\n",
    "    else:\n",
    "        print(f\"Error: {response.status_code}\")\n",
    "        \n",
    "except requests.RequestException as e:\n",
    "    print(f\"Error en la solicitud: {e}\")"
   ]
  },
  {
   "cell_type": "markdown",
   "id": "591ef527",
   "metadata": {},
   "source": [
    "Este código en Python utiliza la biblioteca **`requests`** para hacer una solicitud web y obtener datos de una API en formato **JSON**.\n",
    "\n",
    "### Explicación de las librerías\n",
    "\n",
    "- **`import requests`**: Esta línea importa la biblioteca `requests`. Es una de las bibliotecas más populares en Python para hacer peticiones HTTP de manera sencilla. Permite enviar solicitudes, obtener respuestas y manejar errores con facilidad.\n",
    "\n",
    "---\n",
    "\n",
    "### Lógica del código\n",
    "\n",
    "El programa sigue los siguientes pasos:\n",
    "\n",
    "1.  **Definición de la URL**:\n",
    "    -   `url = \"https://jsonplaceholder.typicode.com/posts/1\"`: Se define una variable `url` que almacena la dirección de un servicio web (una API) que proporciona datos de prueba en formato JSON. En este caso, la URL devuelve información sobre un \"post\" con el ID número 1.\n",
    "\n",
    "2.  **Manejo de errores con `try...except`**:\n",
    "    -   El código está dentro de un bloque **`try`**. Esto es una buena práctica para manejar posibles errores que pueden ocurrir al hacer una solicitud de red, como problemas de conexión o URLs incorrectas.\n",
    "    -   `except requests.RequestException as e:`: Si la solicitud falla por algún motivo (por ejemplo, no hay conexión a internet), el programa no se detiene abruptamente. En su lugar, el error es capturado y se muestra un mensaje explicativo.\n",
    "\n",
    "3.  **Realización de la solicitud**:\n",
    "    -   `response = requests.get(url)`: Esta es la parte central del código. La función `requests.get()` envía una solicitud de tipo **GET** a la URL especificada. El resultado de la solicitud se guarda en la variable `response`. El objeto `response` contiene información como el estado de la solicitud y los datos recibidos.\n",
    "\n",
    "4.  **Verificación del estado de la respuesta**:\n",
    "    -   `if response.status_code == 200:`: Se comprueba el **código de estado HTTP** de la respuesta. El código `200` significa que la solicitud fue **exitosa** y que el servidor respondió correctamente.\n",
    "\n",
    "5.  **Procesamiento de los datos JSON**:\n",
    "    -   `data = response.json()`: Si la solicitud fue exitosa, esta línea convierte el contenido de la respuesta de texto a un diccionario de Python. El formato **JSON** es muy similar a un diccionario de Python, lo que hace que esta conversión sea muy sencilla.\n",
    "    -   `print(\"Título:\", data.get(\"title\"))`: Una vez que los datos están en un diccionario, se accede a la información usando las claves (keys). En este caso, se extrae el valor asociado a la clave `\"title\"`.\n",
    "    -   `print(\"Contenido:\", data.get(\"body\"))`: De manera similar, se extrae el valor asociado a la clave `\"body\"`.\n",
    "\n",
    "6.  **Manejo de respuestas no exitosas**:\n",
    "    -   `else: print(f\"Error: {response.status_code}\")`: Si el código de estado no es `200` (por ejemplo, `404` si la página no se encuentra o `500` si hay un error en el servidor), este bloque se ejecuta y muestra un mensaje de error con el código correspondiente."
   ]
  },
  {
   "cell_type": "markdown",
   "id": "f3589f18",
   "metadata": {},
   "source": [
    "# Conexión y consulta de bases de datos en Python \n",
    "Las bases de datos SQL, como PostgreSQL, MySQL y SQLite, son relacionales y usan tablas para organizar la información. Para conectarse a ellas, necesitas un conector o controlador (driver) de Python."
   ]
  },
  {
   "cell_type": "markdown",
   "id": "43113b9a",
   "metadata": {},
   "source": [
    "## psycopg2"
   ]
  },
  {
   "cell_type": "code",
   "execution_count": 19,
   "id": "db0e0ee5",
   "metadata": {},
   "outputs": [
    {
     "ename": "ModuleNotFoundError",
     "evalue": "No module named 'psycopg2'",
     "output_type": "error",
     "traceback": [
      "\u001b[0;31m---------------------------------------------------------------------------\u001b[0m",
      "\u001b[0;31mModuleNotFoundError\u001b[0m                       Traceback (most recent call last)",
      "Cell \u001b[0;32mIn[19], line 1\u001b[0m\n\u001b[0;32m----> 1\u001b[0m \u001b[38;5;28;01mimport\u001b[39;00m\u001b[38;5;250m \u001b[39m\u001b[38;5;21;01mpsycopg2\u001b[39;00m\n\u001b[1;32m      3\u001b[0m \u001b[38;5;66;03m# Conexión\u001b[39;00m\n\u001b[1;32m      4\u001b[0m \u001b[38;5;28;01mtry\u001b[39;00m:\n",
      "\u001b[0;31mModuleNotFoundError\u001b[0m: No module named 'psycopg2'"
     ]
    }
   ],
   "source": [
    "import psycopg2\n",
    "\n",
    "# Conexión\n",
    "try:\n",
    "    conn = psycopg2.connect(\n",
    "        dbname=\"mi_db\",\n",
    "        user=\"usuario\",\n",
    "        password=\"password\",\n",
    "        host=\"localhost\"\n",
    "    )\n",
    "    print(\"Conexión a PostgreSQL exitosa\")\n",
    "\n",
    "    # Crear un cursor para ejecutar comandos SQL\n",
    "    cur = conn.cursor()\n",
    "\n",
    "    # Ejecutar una consulta de ejemplo\n",
    "    cur.execute(\"SELECT version();\")\n",
    "    db_version = cur.fetchone()\n",
    "    print(f\"Versión de la base de datos: {db_version[0]}\")\n",
    "\n",
    "    # Cerrar el cursor y la conexión\n",
    "    cur.close()\n",
    "    conn.close()\n",
    "\n",
    "except Exception as e:\n",
    "    print(f\"Error al conectar: {e}\")"
   ]
  },
  {
   "cell_type": "markdown",
   "id": "b237081e",
   "metadata": {},
   "source": [
    "# mysql-connector-python"
   ]
  },
  {
   "cell_type": "code",
   "execution_count": null,
   "id": "7023c6cf",
   "metadata": {},
   "outputs": [],
   "source": [
    "import mysql.connector\n",
    "\n",
    "# Conexión\n",
    "try:\n",
    "    conn = mysql.connector.connect(\n",
    "        user=\"usuario\",\n",
    "        password=\"password\",\n",
    "        host=\"localhost\",\n",
    "        database=\"mi_db\"\n",
    "    )\n",
    "    print(\"Conexión a MySQL exitosa\")\n",
    "\n",
    "    # Crear un cursor\n",
    "    cursor = conn.cursor()\n",
    "\n",
    "    # Ejecutar una consulta\n",
    "    cursor.execute(\"SELECT * FROM tabla_ejemplo;\")\n",
    "    for fila in cursor:\n",
    "        print(fila)\n",
    "\n",
    "    cursor.close()\n",
    "    conn.close()\n",
    "\n",
    "except mysql.connector.Error as e:\n",
    "    print(f\"Error al conectar: {e}\")"
   ]
  },
  {
   "cell_type": "markdown",
   "id": "97bdbea7",
   "metadata": {},
   "source": [
    "# sqlite3"
   ]
  },
  {
   "cell_type": "code",
   "execution_count": null,
   "id": "b5e00353",
   "metadata": {},
   "outputs": [],
   "source": [
    "import sqlite3\n",
    "\n",
    "# Conexión (crea un archivo si no existe)\n",
    "conn = sqlite3.connect('mi_base_de_datos.db')\n",
    "print(\"Conexión a SQLite exitosa\")\n",
    "\n",
    "# Crear un cursor\n",
    "cursor = conn.cursor()\n",
    "\n",
    "# Ejecutar una consulta (crear una tabla)\n",
    "cursor.execute(\"\"\"\n",
    "    CREATE TABLE IF NOT EXISTS usuarios (\n",
    "        id INTEGER PRIMARY KEY,\n",
    "        nombre TEXT NOT NULL\n",
    "    )\n",
    "\"\"\")\n",
    "conn.commit() # Guardar los cambios\n",
    "\n",
    "conn.close()"
   ]
  },
  {
   "cell_type": "markdown",
   "id": "95d71819",
   "metadata": {},
   "source": [
    "# Conexión a bases de datos NoSQL"
   ]
  },
  {
   "cell_type": "markdown",
   "id": "468fcce3",
   "metadata": {},
   "source": [
    "# pymongo"
   ]
  },
  {
   "cell_type": "code",
   "execution_count": null,
   "id": "a0e63f01",
   "metadata": {},
   "outputs": [],
   "source": [
    "from pymongo import MongoClient\n",
    "\n",
    "# Conexión (asegúrate de que MongoDB esté corriendo en el host y puerto)\n",
    "try:\n",
    "    client = MongoClient(\"mongodb://localhost:27017/\")\n",
    "    db = client[\"mi_basedatos_nosql\"]\n",
    "    collection = db[\"mi_coleccion\"]\n",
    "\n",
    "    print(\"Conexión a MongoDB exitosa\")\n",
    "\n",
    "    # Insertar un documento\n",
    "    post_id = collection.insert_one({\"nombre\": \"ejemplo\", \"valor\": 123}).inserted_id\n",
    "    print(f\"Documento insertado con ID: {post_id}\")\n",
    "\n",
    "    # Encontrar un documento\n",
    "    documento = collection.find_one({\"nombre\": \"ejemplo\"})\n",
    "    print(\"Documento encontrado:\", documento)\n",
    "\n",
    "    # Cerrar la conexión\n",
    "    client.close()\n",
    "\n",
    "except Exception as e:\n",
    "    print(f\"Error al conectar: {e}\")"
   ]
  },
  {
   "cell_type": "markdown",
   "id": "0c02011b",
   "metadata": {},
   "source": [
    "# redis-py"
   ]
  },
  {
   "cell_type": "code",
   "execution_count": null,
   "id": "f7cd66a0",
   "metadata": {},
   "outputs": [],
   "source": [
    "import redis\n",
    "\n",
    "# Conexión\n",
    "try:\n",
    "    r = redis.Redis(host='localhost', port=6379, db=0)\n",
    "    print(\"Conexión a Redis exitosa\")\n",
    "\n",
    "    # Guardar un valor\n",
    "    r.set('clave', 'hola mundo')\n",
    "\n",
    "    # Obtener un valor\n",
    "    valor = r.get('clave').decode('utf-8')\n",
    "    print(f\"Valor recuperado de Redis: {valor}\")\n",
    "\n",
    "except Exception as e:\n",
    "    print(f\"Error al conectar: {e}\")"
   ]
  }
 ],
 "metadata": {
  "kernelspec": {
   "display_name": "base",
   "language": "python",
   "name": "python3"
  },
  "language_info": {
   "codemirror_mode": {
    "name": "ipython",
    "version": 3
   },
   "file_extension": ".py",
   "mimetype": "text/x-python",
   "name": "python",
   "nbconvert_exporter": "python",
   "pygments_lexer": "ipython3",
   "version": "3.13.5"
  }
 },
 "nbformat": 4,
 "nbformat_minor": 5
}
